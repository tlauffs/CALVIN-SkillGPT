{
 "cells": [
  {
   "cell_type": "markdown",
   "metadata": {},
   "source": [
    "<h2>Path to test data</h2>"
   ]
  },
  {
   "cell_type": "code",
   "execution_count": 2,
   "metadata": {},
   "outputs": [],
   "source": [
    "import numpy as np\n",
    "import glob\n",
    "import os\n",
    "\n",
    "import cv2\n",
    "import numpy as np\n",
    "import tqdm\n",
    "import logging\n",
    "from matplotlib.animation import ArtistAnimation\n",
    "import matplotlib.pyplot as plt\n",
    "import matplotlib.cm as cm\n",
    "import numpy as np\n",
    "from sklearn.manifold import TSNE\n",
    "from tqdm import tqdm\n",
    "\n",
    "datapath_hulk2 = '../test_data/Hulc2/datatest/hulc_2_episode.npz'\n",
    "datapath_hulk2_dir = '../test_data/Hulc2/datatest'\n",
    "datapath_hulk2_an = '../test_data/Hulc2/single/auto_lang_ann.npy'\n",
    "datapath_hulk2_an_mult = '../test_data/Hulc2/multi/auto_lang_ann.npy'\n",
    "datapath_ep_lens = '../test_data/Hulc2/ep_lens.npy'\n",
    "datapath_ep_start_end_ids = '../test_data/Hulc2/ep_start_end_ids.npy'\n",
    "\n",
    "data_path_full = \"/home/tim/500k_all_tasks_dataset_15hz\""
   ]
  },
  {
   "cell_type": "markdown",
   "metadata": {},
   "source": [
    "<h3> Test if Data if working </h3>"
   ]
  },
  {
   "cell_type": "code",
   "execution_count": 3,
   "metadata": {},
   "outputs": [
    {
     "name": "stdout",
     "output_type": "stream",
     "text": [
      "['actions', 'rel_actions_world', 'rel_actions_gripper', 'robot_obs', 'rgb_static', 'depth_static', 'rgb_gripper', 'depth_gripper']\n",
      "[ 0.31737219 -0.0062298   0.43991384 -3.09091585  0.00391931  0.0156081\n",
      "  1.        ]\n"
     ]
    }
   ],
   "source": [
    "d_hulk = np.load(datapath_hulk2, allow_pickle=True)\n",
    "print(list(d_hulk.keys()))\n",
    "\n",
    "print(d_hulk[\"actions\"])"
   ]
  },
  {
   "cell_type": "code",
   "execution_count": 4,
   "metadata": {},
   "outputs": [
    {
     "name": "stdout",
     "output_type": "stream",
     "text": [
      "place_yellow_drawer_top\n",
      "(20961, 21025)\n",
      "[[-0.38922822  0.1494553   0.0239097  -0.03678728 -0.1484833  -0.00542468\n",
      "   0.3273134   0.3559373   0.52274704 -0.6505218   0.13515905  0.5648616\n",
      "   0.215478    0.00145402 -0.02869894 -0.17435911  0.01497278  0.22213031\n",
      "  -0.11780678  0.16087767  0.42047313  0.16388613  0.11060517  0.29321435\n",
      "  -0.18563269  0.06868439  0.07459813 -0.17093252  0.10922515 -0.1105642\n",
      "  -0.04661695  0.3919795   0.03154283 -0.20887108  0.22681214 -0.5485923\n",
      "  -0.01577348 -0.10701358  0.37242317  0.34940502 -0.07511472  0.07940333\n",
      "   0.18046492 -0.45167026 -0.5700471   0.02134322  0.34975317  0.12040555\n",
      "   0.30040732 -0.303599   -0.03591662  0.26108557 -0.3183324   0.17721924\n",
      "  -0.18067726  0.02455653 -0.04083814  0.02886025  0.48874313 -0.26494902\n",
      "  -0.09237493  0.30716586  0.21235067  0.32615882 -0.11148506 -0.1943274\n",
      "  -0.09562469 -0.01280283 -0.09855368 -0.11726558  0.18315698  0.03758955\n",
      "  -0.09367383 -0.2013392   0.5508225   0.14537777 -0.18701297 -0.3853593\n",
      "   0.18891527 -0.1328633   0.15567964 -0.23811278 -0.07461257 -0.0474959\n",
      "  -0.19944137  0.19016267  0.3388975  -0.21407717  0.13014545  0.20687146\n",
      "   0.26817557 -0.39170426  0.14371203 -0.12350915 -0.18845314  0.26086637\n",
      "  -0.53625053 -0.3623949  -0.09451294  0.06711465 -0.39481708  0.07263189\n",
      "   0.00396172 -0.08236947 -0.12403698 -0.36001578 -0.37349176  0.0704809\n",
      "  -0.13573714 -0.01336128  0.00362869 -0.1401409   0.01111085 -0.32039884\n",
      "  -0.5158306   0.06146042  0.03637368 -0.21011242  0.36928102  0.29405624\n",
      "  -0.05312824  0.48047048 -0.26946357  0.48677284  0.09559926 -0.12727408\n",
      "  -0.6588221  -0.14481999  0.15490699 -0.24173254 -0.67041224 -0.1016909\n",
      "  -0.02617438 -0.3470654   0.05714384  0.23713098 -0.5663321  -0.16372275\n",
      "  -0.07691789  0.10004973 -0.25915155  0.44445258  0.5411888  -0.13839309\n",
      "   0.1044291  -0.329783   -0.6603679  -0.00303938 -0.4389189   0.37035674\n",
      "   0.26185942 -0.35435438  0.28883666  0.61695826 -0.32044926  0.02256959\n",
      "  -0.61439604 -0.01266191  0.3596798  -0.09510095 -0.26310638  0.43843156\n",
      "   0.03599478  0.4184001  -0.08422531 -0.12613843 -0.22582985 -0.3236468\n",
      "   0.324715    0.18482208  0.1980905   0.37051728  0.06200018 -0.03737752\n",
      "  -0.3277926  -0.03045357 -0.08404437 -0.0782088   0.25335968  0.4685427\n",
      "  -0.11235946  0.12697616  0.3573386  -0.08744944  0.08084423 -0.28323486\n",
      "   0.43443015  0.31128442  0.2891639   0.05993333 -0.0770008   0.09310165\n",
      "   0.11432879 -0.25959218  0.14833511  0.5835585   0.24040636 -0.5603154\n",
      "  -0.5002294   0.0269645   0.01279125 -0.0814974  -0.66875815  0.30291784\n",
      "   0.01062253  0.02188526 -0.27704918 -0.27159423  0.2666445   0.29730815\n",
      "   0.5528208  -0.1147055  -0.25001585 -0.28001833 -0.16357201  0.12063272\n",
      "  -0.06344552  0.4036401   0.21266064 -0.31107393  0.42556182  0.41767737\n",
      "  -0.03089023 -0.3428868  -0.15892993 -0.34064925  0.39143956 -0.23145562\n",
      "  -0.13563444  0.18709989 -0.31257993  0.1120457  -0.31560746 -0.08724423\n",
      "  -0.26603007  0.21792307  0.25707188 -0.33742058  0.09286731 -0.7030118\n",
      "  -0.13303445 -0.11651859 -0.11705554 -0.41750237 -0.07488864  0.0114424\n",
      "  -0.1704117  -0.02273452  0.32502374  0.25999716 -0.02272094 -0.03424815\n",
      "   0.01527762  0.51709676 -0.10823662 -0.2908488  -0.3484228  -0.05781464\n",
      "  -0.07893953 -0.4213116  -0.30236346  0.17050523  0.34844553  0.4865243\n",
      "   0.28090858 -0.2837215   0.1321841   0.16007675 -0.48222005  0.02974892\n",
      "  -0.21917796  0.4644622  -0.00327724 -0.11433385  0.1718884  -0.6254329\n",
      "   0.24204749 -0.5791409  -0.1509967   0.64663035 -0.07518768  0.25690332\n",
      "   0.37247288 -0.13286833 -0.39360043  0.3087385  -0.22883421 -0.06044491\n",
      "   0.73874855  0.01312964  0.1554022   0.07415192 -0.25745523 -0.42969063\n",
      "  -0.20407358 -0.19956775  0.47376588 -0.0757715  -0.15806359  0.13493775\n",
      "   0.5158427   0.21977161 -0.066467    0.10983031  0.04647549 -0.05460889\n",
      "  -0.34137738  0.21296977 -0.30608946 -0.16403227 -0.46989623  0.23777008\n",
      "  -0.6677118   0.26496026  0.2741771   0.21299721  0.31101993  0.03350928\n",
      "  -0.03563571  0.10086233 -0.03417542  0.12835984  0.11827759 -0.20242633\n",
      "  -0.06605387 -0.2806866  -0.01762129 -0.47701788  0.0855501  -0.05249492\n",
      "  -0.24351291 -0.24285577 -0.00281608  0.36125585 -0.2711457   0.28643906\n",
      "   0.01861343 -0.2883141   0.08971756 -0.11503002  0.07393008  0.06731555\n",
      "   0.29150936 -0.3465596   0.2975067   0.06032825 -0.33787677  0.5777985\n",
      "  -0.30806142 -0.12196671  0.0702534  -0.47415438  0.34743202  0.49524546\n",
      "   0.39391214 -0.02496629 -0.33922073  0.00510759  0.13814008 -0.13950272\n",
      "   0.22449546 -0.57382464 -0.08002929  0.25460628 -0.2525269   0.03893984\n",
      "  -0.034365    0.29051265  0.16149594  0.18256445 -0.01179804  0.14467403\n",
      "   0.36880788  0.12084122  0.02501987 -0.06879214  0.13637921  0.15763347\n",
      "  -0.12887697  0.33141437 -0.12894818  0.31925517  0.04161889  0.03886449]]\n",
      "3605\n",
      "3605\n",
      "3605\n"
     ]
    }
   ],
   "source": [
    "# d_hulk_ann = np.load(datapath_hulk2_an, allow_pickle=True)\n",
    "\n",
    "d_hulk_ann = np.load(datapath_hulk2_an, allow_pickle=True).reshape(-1)[0]\n",
    "d_hulk_ann\n",
    "\n",
    "# np.squeeze(d_hulk_ann[\"language\"][\"emb\"])\n",
    "\n",
    "#print(d_hulk_ann[\"language\"][\"emb\"][0])\n",
    "print(d_hulk_ann[\"language\"][\"task\"][54])\n",
    "print(d_hulk_ann[\"info\"][\"indx\"][54])\n",
    "print(d_hulk_ann[\"language\"][\"emb\"][54])\n",
    "\n",
    "print(len(d_hulk_ann[\"language\"][\"task\"]))\n",
    "print(len(d_hulk_ann[\"language\"][\"emb\"]))\n",
    "print(len(d_hulk_ann[\"info\"][\"indx\"]))\n",
    "\n",
    "\n",
    "# d_hulk_ann = np.load(datapath_hulk2_an_mult, allow_pickle=True)\n",
    "# d_hulk_ann"
   ]
  },
  {
   "cell_type": "code",
   "execution_count": 4,
   "metadata": {},
   "outputs": [
    {
     "data": {
      "text/plain": [
       "array([ 2207, 11824,  7545,  6154, 12127, 10627,  8432,  7754,  6077,\n",
       "        3889,  8318,  5142,  5633,  7065,  5022,  2113, 17786, 12006,\n",
       "        1490,  5320,  7606,  9468,  6346,  5234, 11894,  5691,  9535,\n",
       "        1831,  3509,  1889,  1466,  5885,  4901,  8353,  5343,  5835,\n",
       "       14443, 14326,  6674,  7617, 14503,  2644,  5382,  5594,  4850,\n",
       "        4079,  9082, 11959,  7705,  7301,  3506,  3613,  8320,  4479,\n",
       "         269,  5533,  2776,  3356,  4559,   420,  3847,    34,  3500,\n",
       "         469,  5258,   669, 18994,  1273,  8602,  6017,  9335,  1083,\n",
       "        4198,  1817,  3566,  3316,  8539,  1516,  8903,  2963,  6067,\n",
       "        5342,   594])"
      ]
     },
     "execution_count": 4,
     "metadata": {},
     "output_type": "execute_result"
    }
   ],
   "source": [
    "d_hulk_ep_lens = np.load(datapath_ep_lens)\n",
    "d_hulk_ep_lens"
   ]
  },
  {
   "cell_type": "code",
   "execution_count": 8,
   "metadata": {},
   "outputs": [
    {
     "data": {
      "text/plain": [
       "array([[ 14031,  21575],\n",
       "       [ 21576,  27729],\n",
       "       [ 27730,  39856],\n",
       "       [ 39857,  50483],\n",
       "       [ 50484,  58915],\n",
       "       [ 58916,  66669],\n",
       "       [ 66670,  72746],\n",
       "       [ 72747,  76635],\n",
       "       [ 76636,  84953],\n",
       "       [ 84954,  90095],\n",
       "       [ 90096,  95728],\n",
       "       [ 95729, 102793],\n",
       "       [102794, 107815],\n",
       "       [107816, 109928],\n",
       "       [109929, 127714],\n",
       "       [127715, 139720],\n",
       "       [139721, 141210],\n",
       "       [141211, 146530],\n",
       "       [146531, 154136],\n",
       "       [154137, 163604],\n",
       "       [163605, 169950],\n",
       "       [169951, 175184],\n",
       "       [175185, 187078],\n",
       "       [187079, 192769],\n",
       "       [192770, 202304],\n",
       "       [202305, 204135],\n",
       "       [204136, 207644],\n",
       "       [207645, 209533],\n",
       "       [209534, 210999],\n",
       "       [211000, 216884],\n",
       "       [216885, 221785],\n",
       "       [221786, 230138],\n",
       "       [230139, 235481],\n",
       "       [235482, 241316],\n",
       "       [241317, 255759],\n",
       "       [255760, 270085],\n",
       "       [270086, 276759],\n",
       "       [276760, 284376],\n",
       "       [284377, 298879],\n",
       "       [298880, 301523],\n",
       "       [301524, 306905],\n",
       "       [306906, 312499],\n",
       "       [312500, 317349],\n",
       "       [317350, 321428],\n",
       "       [321429, 330510],\n",
       "       [330511, 342469],\n",
       "       [342470, 350174],\n",
       "       [350175, 357475],\n",
       "       [357476, 360981],\n",
       "       [360982, 364594],\n",
       "       [364595, 372914],\n",
       "       [372915, 377393],\n",
       "       [377394, 377662],\n",
       "       [377663, 383195],\n",
       "       [383196, 385971],\n",
       "       [385972, 389327],\n",
       "       [389328, 393886],\n",
       "       [393887, 394306],\n",
       "       [394307, 398153],\n",
       "       [398154, 398187],\n",
       "       [398188, 401687],\n",
       "       [401688, 402156],\n",
       "       [402157, 407414],\n",
       "       [407415, 408083],\n",
       "       [408084, 427077],\n",
       "       [427078, 428350],\n",
       "       [428351, 436952],\n",
       "       [436953, 442969],\n",
       "       [442970, 452304],\n",
       "       [452305, 453387],\n",
       "       [453388, 457585],\n",
       "       [457586, 459402],\n",
       "       [459403, 462968],\n",
       "       [462969, 466284],\n",
       "       [466285, 474823],\n",
       "       [474824, 476339],\n",
       "       [476340, 485242],\n",
       "       [485243, 488205],\n",
       "       [488206, 494272],\n",
       "       [494273, 499614],\n",
       "       [499615, 500208]])"
      ]
     },
     "execution_count": 8,
     "metadata": {},
     "output_type": "execute_result"
    }
   ],
   "source": [
    "d_hulk_ep_start_end_ids = np.load(datapath_ep_start_end_ids)\n",
    "d_hulk_ep_start_end_ids"
   ]
  },
  {
   "cell_type": "markdown",
   "metadata": {},
   "source": [
    "<h2>Visualize Data</h2>"
   ]
  },
  {
   "cell_type": "markdown",
   "metadata": {},
   "source": [
    "<h3>Real World</h3>"
   ]
  },
  {
   "cell_type": "code",
   "execution_count": 7,
   "metadata": {},
   "outputs": [],
   "source": [
    "def normalize_depth(img):\n",
    "    img_mask = img == 0\n",
    "    istats = (np.min(img[img > 0]), np.max(img))\n",
    "    imrange = (img.astype(\"float32\") - istats[0]) / (istats[1] - istats[0])\n",
    "    imrange[img_mask] = 0\n",
    "    imrange = 255.0 * imrange\n",
    "    imsz = imrange.shape\n",
    "    nchan = 1\n",
    "    if len(imsz) == 3:\n",
    "        nchan = imsz[2]\n",
    "    imgcanvas = np.zeros((imsz[0], imsz[1], nchan), dtype=\"uint8\")\n",
    "    imgcanvas[0 : imsz[0], 0 : imsz[1]] = imrange.reshape((imsz[0], imsz[1], nchan))\n",
    "    return imgcanvas\n",
    "\n",
    "\n",
    "# Ger valid numpy files with raw data\n",
    "def get_files(path, extension, recursive=False):\n",
    "    if not os.path.isdir(path):\n",
    "        print(\"path does not exist: %s\" % path)\n",
    "    search_str = \"/*.%s\" % extension if not recursive else \"**/*.%s\" % extension\n",
    "    files = glob.glob(path + search_str)\n",
    "    if not files:\n",
    "        print(\"No *.%s files found in %s\" % (extension, path))\n",
    "    files.sort()\n",
    "    return files\n",
    "\n",
    "\n",
    "def viz_data(data_dir, start_epi=0, end_epi=0):\n",
    "    \"\"\"Visualize teleop data recorded with Panda robot and check actions are valid\"\"\"\n",
    "    files = get_files(data_dir, \"npz\", recursive=True)  # Sorted files\n",
    "    # Remove camera calibration npz from iterable files\n",
    "    files = [f for f in files if \"camera_info.npz\" not in f]\n",
    "\n",
    "    for idx, filename in enumerate(tqdm(files)):\n",
    "        data = np.load(filename, allow_pickle=True)\n",
    "\n",
    "        if(start_epi != 0 and end_epi != 0):\n",
    "            epi_filename = int(filename[-11:-4])\n",
    "            if(epi_filename < start_epi):\n",
    "                continue\n",
    "            if(end_epi < epi_filename):\n",
    "                return\n",
    "                \n",
    "\n",
    "        if data is None:\n",
    "            continue  # Skip file\n",
    "\n",
    "        new_size = (400, 400)\n",
    "        for key in [\"rgb_static\", \"depth_static\", \"rgb_gripper\", \"depth_gripper\"]:\n",
    "            img = cv2.resize(data[key], new_size)\n",
    "            if \"rgb\" in key:\n",
    "                cv2.imshow(key, img[:, :, ::-1])\n",
    "            else:\n",
    "                img2 = normalize_depth(img)\n",
    "                img2 = cv2.applyColorMap(img2, cv2.COLORMAP_JET)\n",
    "                cv2.imshow(key, img2)\n",
    "        cv2.waitKey(10)\n"
   ]
  },
  {
   "cell_type": "code",
   "execution_count": 8,
   "metadata": {},
   "outputs": [
    {
     "name": "stdout",
     "output_type": "stream",
     "text": [
      "turn_off_blue_led\n",
      "(21486, 21550)\n"
     ]
    },
    {
     "name": "stderr",
     "output_type": "stream",
     "text": [
      "  2%|▏         | 7403/486178 [00:02<02:15, 3524.89it/s]qt.qpa.plugin: Could not find the Qt platform plugin \"wayland\" in \"/home/tim/.local/lib/python3.10/site-packages/cv2/qt/plugins\"\n",
      "  2%|▏         | 7520/486178 [00:04<05:11, 1538.10it/s]\n"
     ]
    }
   ],
   "source": [
    "index = 100\n",
    "print(d_hulk_ann[\"language\"][\"task\"][index])\n",
    "print(d_hulk_ann[\"info\"][\"indx\"][index])\n",
    "viz_data(data_path_full, d_hulk_ann[\"info\"][\"indx\"][index][0], d_hulk_ann[\"info\"][\"indx\"][index][1])"
   ]
  },
  {
   "cell_type": "markdown",
   "metadata": {},
   "source": [
    "<h3>Visualize Embeddings</h3>"
   ]
  },
  {
   "cell_type": "code",
   "execution_count": 11,
   "metadata": {},
   "outputs": [],
   "source": [
    "\n",
    "def generate_task_id(tasks):\n",
    "    labels = list(sorted(set(tasks)))\n",
    "    task_ids = [labels.index(task) for task in tasks]\n",
    "    return task_ids\n",
    "\n",
    "def visualize_embeddings(data, with_text=True):\n",
    "    # emb = data[\"language\"][\"emb\"].squeeze()\n",
    "    emb = data[\"language\"][\"emb\"]\n",
    "    emb = np.squeeze(emb)\n",
    "\n",
    "    tsne_emb = TSNE(n_components=2, random_state=40, perplexity=20.0).fit_transform(emb)\n",
    "\n",
    "    emb_2d = tsne_emb\n",
    "\n",
    "    task_ids = generate_task_id(data[\"language\"][\"task\"])\n",
    "    # print(data[\"language\"][\"task\"])\n",
    "    # print(task_ids)\n",
    "\n",
    "    # ??? not enough colors\n",
    "    # cmap = [\"orange\", \"blue\", \"green\", \"pink\", \"brown\", \"black\", \"purple\", \"yellow\", \"cyan\", \"red\", \"grey\", \"olive\"]\n",
    "\n",
    "    cmap = cm.rainbow(np.linspace(0, 1, 55))\n",
    "\n",
    "    ids_in_legend = []\n",
    "    for i, task_id in enumerate(task_ids):\n",
    "        if task_id not in ids_in_legend:\n",
    "            ids_in_legend.append(task_id)\n",
    "            plt.scatter(emb_2d[i, 0], emb_2d[i, 1], color=cmap[task_id], label=data[\"language\"][\"task\"][i])\n",
    "            if with_text:\n",
    "                plt.text(emb_2d[i, 0], emb_2d[i, 1], data[\"language\"][\"ann\"][i])\n",
    "        else:\n",
    "            plt.scatter(emb_2d[i, 0], emb_2d[i, 1], color=cmap[task_id])\n",
    "            if with_text:\n",
    "                plt.text(emb_2d[i, 0], emb_2d[i, 1], data[\"language\"][\"ann\"][i])\n",
    "    plt.legend()\n",
    "    plt.title(\"Language Embeddings\")\n",
    "    plt.show()"
   ]
  },
  {
   "cell_type": "code",
   "execution_count": null,
   "metadata": {},
   "outputs": [],
   "source": [
    "visualize_embeddings(d_hulk_ann)"
   ]
  },
  {
   "cell_type": "markdown",
   "metadata": {},
   "source": [
    "<h2> Train Captioning first attempt </h2>"
   ]
  },
  {
   "cell_type": "markdown",
   "metadata": {},
   "source": [
    "<h3> find longest image sequence, embedding size and num classes/labels</h3>"
   ]
  },
  {
   "cell_type": "code",
   "execution_count": 29,
   "metadata": {},
   "outputs": [
    {
     "name": "stdout",
     "output_type": "stream",
     "text": [
      "img seq length:  64\n",
      "img embedding size:  (1, 384)\n",
      "get num classes (lables):  55\n"
     ]
    }
   ],
   "source": [
    "print('img seq length: ', (d_hulk_ann[\"info\"][\"indx\"][1][1]) - (d_hulk_ann[\"info\"][\"indx\"][1][0]))\n",
    "for x in d_hulk_ann[\"info\"][\"indx\"]:\n",
    "    if((x[1] - x[0]) != 64):\n",
    "        print(\"data length varies\")\n",
    "\n",
    "print('img embedding size: ', d_hulk_ann[\"language\"][\"emb\"][52].shape)\n",
    "\n",
    "#for y in d_hulk_ann[\"language\"][\"task\"]:\n",
    "#    print(y)\n",
    "print('get num classes (lables): ',len(list(dict.fromkeys(d_hulk_ann[\"language\"][\"task\"]))))\n"
   ]
  },
  {
   "cell_type": "markdown",
   "metadata": {},
   "source": [
    "<h3>test tensorflow</h3>"
   ]
  },
  {
   "cell_type": "code",
   "execution_count": 1,
   "metadata": {},
   "outputs": [
    {
     "name": "stderr",
     "output_type": "stream",
     "text": [
      "2023-08-11 21:16:45.532655: I tensorflow/tsl/cuda/cudart_stub.cc:28] Could not find cuda drivers on your machine, GPU will not be used.\n",
      "2023-08-11 21:16:45.671989: I tensorflow/tsl/cuda/cudart_stub.cc:28] Could not find cuda drivers on your machine, GPU will not be used.\n",
      "2023-08-11 21:16:45.673119: I tensorflow/core/platform/cpu_feature_guard.cc:182] This TensorFlow binary is optimized to use available CPU instructions in performance-critical operations.\n",
      "To enable the following instructions: AVX2 FMA, in other operations, rebuild TensorFlow with the appropriate compiler flags.\n",
      "2023-08-11 21:16:46.609381: W tensorflow/compiler/tf2tensorrt/utils/py_utils.cc:38] TF-TRT Warning: Could not find TensorRT\n"
     ]
    },
    {
     "name": "stdout",
     "output_type": "stream",
     "text": [
      "TensorFlow version: 2.13.0\n"
     ]
    }
   ],
   "source": [
    "import tensorflow as tf\n",
    "print(\"TensorFlow version:\", tf.__version__)"
   ]
  },
  {
   "cell_type": "markdown",
   "metadata": {},
   "source": [
    "<h3>Create Model</h3>"
   ]
  },
  {
   "cell_type": "code",
   "execution_count": 31,
   "metadata": {},
   "outputs": [
    {
     "name": "stdout",
     "output_type": "stream",
     "text": [
      "Model: \"sequential_2\"\n",
      "_________________________________________________________________\n",
      " Layer (type)                Output Shape              Param #   \n",
      "=================================================================\n",
      " lstm_2 (LSTM)               (None, 64, 128)           262656    \n",
      "                                                                 \n",
      " lstm_3 (LSTM)               (None, 128)               131584    \n",
      "                                                                 \n",
      " dense_2 (Dense)             (None, 256)               33024     \n",
      "                                                                 \n",
      " dense_3 (Dense)             (None, 55)                14135     \n",
      "                                                                 \n",
      "=================================================================\n",
      "Total params: 441399 (1.68 MB)\n",
      "Trainable params: 441399 (1.68 MB)\n",
      "Non-trainable params: 0 (0.00 Byte)\n",
      "_________________________________________________________________\n"
     ]
    }
   ],
   "source": [
    "import tensorflow as tf\n",
    "from tensorflow.keras.models import Sequential\n",
    "from tensorflow.keras.layers import Conv2D, MaxPooling2D, Flatten, LSTM, Dense\n",
    "\n",
    "# Define the model architecture\n",
    "model = Sequential()\n",
    "\n",
    "# CNN feature extraction layers (not necessary since we already have precomuted embeddings in the hulc2 dataset)\n",
    "# model.add(Conv2D(32, (3, 3), activation='relu', input_shape=(64, image_height, image_width, channels)))\n",
    "# model.add(MaxPooling2D((2, 2)))\n",
    "\n",
    "# model.add(Conv2D(64, (3, 3), activation='relu'))\n",
    "# model.add(MaxPooling2D((2, 2)))\n",
    "\n",
    "# model.add(Conv2D(128, (3, 3), activation='relu'))\n",
    "# model.add(MaxPooling2D((2, 2)))\n",
    "\n",
    "# model.add(Flatten())\n",
    "\n",
    "# LSTM layers for sequence modeling with precomputed embeddings\n",
    "sequence_length = 64\n",
    "embedding_size = 384\n",
    "num_classes = 55\n",
    "\n",
    "model.add(LSTM(128, input_shape=(sequence_length, embedding_size), return_sequences=True))\n",
    "model.add(LSTM(128, return_sequences=False))  # The final LSTM layer\n",
    "\n",
    "# Fully connected layers for action prediction\n",
    "model.add(Dense(256, activation='relu'))\n",
    "model.add(Dense(num_classes, activation='softmax'))  # Replace 'num_classes' with the actual number of action classes\n",
    "\n",
    "# Compile the model\n",
    "model.compile(optimizer='adam', loss='categorical_crossentropy', metrics=['accuracy'])\n",
    "\n",
    "# Print the model summary\n",
    "model.summary()\n"
   ]
  },
  {
   "cell_type": "markdown",
   "metadata": {},
   "source": [
    "<h3>Data Preperation</h3>"
   ]
  }
 ],
 "metadata": {
  "kernelspec": {
   "display_name": "Python 3",
   "language": "python",
   "name": "python3"
  },
  "language_info": {
   "codemirror_mode": {
    "name": "ipython",
    "version": 3
   },
   "file_extension": ".py",
   "mimetype": "text/x-python",
   "name": "python",
   "nbconvert_exporter": "python",
   "pygments_lexer": "ipython3",
   "version": "3.10.6"
  },
  "orig_nbformat": 4
 },
 "nbformat": 4,
 "nbformat_minor": 2
}
